{
 "cells": [
  {
   "cell_type": "markdown",
   "metadata": {},
   "source": [
    "# Regression and Other Stories: Elections Economy"
   ]
  },
  {
   "cell_type": "markdown",
   "metadata": {},
   "source": [
    "Predicting presidential vote share from the economy. See Chapters 1, 7, 8, 9, and 22 in [Regression and Other Stories](https://avehtari.github.io/ROS-Examples/) by **Andrew Gelman**, **Jennifer Hill**, **Aki Vehtari**."
   ]
  },
  {
   "cell_type": "markdown",
   "metadata": {},
   "source": [
    "**Import libraries**"
   ]
  },
  {
   "cell_type": "code",
   "execution_count": 1,
   "metadata": {},
   "outputs": [
    {
     "data": {
      "text/plain": [
       "ThemeRegistry.enable('fivethirtyeight')"
      ]
     },
     "execution_count": 1,
     "metadata": {},
     "output_type": "execute_result"
    }
   ],
   "source": [
    "import pandas as pd\n",
    "import numpy as np\n",
    "import altair as alt\n",
    "# import pystan \n",
    "import statsmodels.api as sm\n",
    "alt.themes.enable('fivethirtyeight')"
   ]
  },
  {
   "cell_type": "markdown",
   "metadata": {},
   "source": [
    "**Load data**"
   ]
  },
  {
   "cell_type": "code",
   "execution_count": 2,
   "metadata": {},
   "outputs": [],
   "source": [
    "hibbs = pd.read_table('datasets/ElectionsEconomy/data/hibbs.dat', sep=' ')"
   ]
  },
  {
   "cell_type": "code",
   "execution_count": 3,
   "metadata": {},
   "outputs": [],
   "source": [
    "hibbs[\"growth-prop\"] = hibbs[\"growth\"]/100\n",
    "hibbs[\"vote-prop\"] = hibbs[\"vote\"]/100"
   ]
  },
  {
   "cell_type": "code",
   "execution_count": 4,
   "metadata": {},
   "outputs": [
    {
     "data": {
      "text/html": [
       "<div>\n",
       "<style scoped>\n",
       "    .dataframe tbody tr th:only-of-type {\n",
       "        vertical-align: middle;\n",
       "    }\n",
       "\n",
       "    .dataframe tbody tr th {\n",
       "        vertical-align: top;\n",
       "    }\n",
       "\n",
       "    .dataframe thead th {\n",
       "        text-align: right;\n",
       "    }\n",
       "</style>\n",
       "<table border=\"1\" class=\"dataframe\">\n",
       "  <thead>\n",
       "    <tr style=\"text-align: right;\">\n",
       "      <th></th>\n",
       "      <th>year</th>\n",
       "      <th>growth</th>\n",
       "      <th>vote</th>\n",
       "      <th>inc_party_candidate</th>\n",
       "      <th>other_candidate</th>\n",
       "      <th>growth-prop</th>\n",
       "      <th>vote-prop</th>\n",
       "    </tr>\n",
       "  </thead>\n",
       "  <tbody>\n",
       "    <tr>\n",
       "      <th>0</th>\n",
       "      <td>1952</td>\n",
       "      <td>2.40</td>\n",
       "      <td>44.60</td>\n",
       "      <td>Stevenson</td>\n",
       "      <td>Eisenhower</td>\n",
       "      <td>0.0240</td>\n",
       "      <td>0.4460</td>\n",
       "    </tr>\n",
       "    <tr>\n",
       "      <th>1</th>\n",
       "      <td>1956</td>\n",
       "      <td>2.89</td>\n",
       "      <td>57.76</td>\n",
       "      <td>Eisenhower</td>\n",
       "      <td>Stevenson</td>\n",
       "      <td>0.0289</td>\n",
       "      <td>0.5776</td>\n",
       "    </tr>\n",
       "    <tr>\n",
       "      <th>2</th>\n",
       "      <td>1960</td>\n",
       "      <td>0.85</td>\n",
       "      <td>49.91</td>\n",
       "      <td>Nixon</td>\n",
       "      <td>Kennedy</td>\n",
       "      <td>0.0085</td>\n",
       "      <td>0.4991</td>\n",
       "    </tr>\n",
       "    <tr>\n",
       "      <th>3</th>\n",
       "      <td>1964</td>\n",
       "      <td>4.21</td>\n",
       "      <td>61.34</td>\n",
       "      <td>Johnson</td>\n",
       "      <td>Goldwater</td>\n",
       "      <td>0.0421</td>\n",
       "      <td>0.6134</td>\n",
       "    </tr>\n",
       "    <tr>\n",
       "      <th>4</th>\n",
       "      <td>1968</td>\n",
       "      <td>3.02</td>\n",
       "      <td>49.60</td>\n",
       "      <td>Humphrey</td>\n",
       "      <td>Nixon</td>\n",
       "      <td>0.0302</td>\n",
       "      <td>0.4960</td>\n",
       "    </tr>\n",
       "  </tbody>\n",
       "</table>\n",
       "</div>"
      ],
      "text/plain": [
       "   year  growth   vote inc_party_candidate other_candidate  growth-prop  \\\n",
       "0  1952    2.40  44.60           Stevenson      Eisenhower       0.0240   \n",
       "1  1956    2.89  57.76          Eisenhower       Stevenson       0.0289   \n",
       "2  1960    0.85  49.91               Nixon         Kennedy       0.0085   \n",
       "3  1964    4.21  61.34             Johnson       Goldwater       0.0421   \n",
       "4  1968    3.02  49.60            Humphrey           Nixon       0.0302   \n",
       "\n",
       "   vote-prop  \n",
       "0     0.4460  \n",
       "1     0.5776  \n",
       "2     0.4991  \n",
       "3     0.6134  \n",
       "4     0.4960  "
      ]
     },
     "execution_count": 4,
     "metadata": {},
     "output_type": "execute_result"
    }
   ],
   "source": [
    "hibbs.head()"
   ]
  },
  {
   "cell_type": "code",
   "execution_count": 5,
   "metadata": {},
   "outputs": [
    {
     "data": {
      "text/html": [
       "\n",
       "<div id=\"altair-viz-f65c5e4b1a7243d8b5e33dda217631d8\"></div>\n",
       "<script type=\"text/javascript\">\n",
       "  (function(spec, embedOpt){\n",
       "    let outputDiv = document.currentScript.previousElementSibling;\n",
       "    if (outputDiv.id !== \"altair-viz-f65c5e4b1a7243d8b5e33dda217631d8\") {\n",
       "      outputDiv = document.getElementById(\"altair-viz-f65c5e4b1a7243d8b5e33dda217631d8\");\n",
       "    }\n",
       "    const paths = {\n",
       "      \"vega\": \"https://cdn.jsdelivr.net/npm//vega@5?noext\",\n",
       "      \"vega-lib\": \"https://cdn.jsdelivr.net/npm//vega-lib?noext\",\n",
       "      \"vega-lite\": \"https://cdn.jsdelivr.net/npm//vega-lite@4.8.1?noext\",\n",
       "      \"vega-embed\": \"https://cdn.jsdelivr.net/npm//vega-embed@6?noext\",\n",
       "    };\n",
       "\n",
       "    function loadScript(lib) {\n",
       "      return new Promise(function(resolve, reject) {\n",
       "        var s = document.createElement('script');\n",
       "        s.src = paths[lib];\n",
       "        s.async = true;\n",
       "        s.onload = () => resolve(paths[lib]);\n",
       "        s.onerror = () => reject(`Error loading script: ${paths[lib]}`);\n",
       "        document.getElementsByTagName(\"head\")[0].appendChild(s);\n",
       "      });\n",
       "    }\n",
       "\n",
       "    function showError(err) {\n",
       "      outputDiv.innerHTML = `<div class=\"error\" style=\"color:red;\">${err}</div>`;\n",
       "      throw err;\n",
       "    }\n",
       "\n",
       "    function displayChart(vegaEmbed) {\n",
       "      vegaEmbed(outputDiv, spec, embedOpt)\n",
       "        .catch(err => showError(`Javascript Error: ${err.message}<br>This usually means there's a typo in your chart specification. See the javascript console for the full traceback.`));\n",
       "    }\n",
       "\n",
       "    if(typeof define === \"function\" && define.amd) {\n",
       "      requirejs.config({paths});\n",
       "      require([\"vega-embed\"], displayChart, err => showError(`Error loading script: ${err.message}`));\n",
       "    } else if (typeof vegaEmbed === \"function\") {\n",
       "      displayChart(vegaEmbed);\n",
       "    } else {\n",
       "      loadScript(\"vega\")\n",
       "        .then(() => loadScript(\"vega-lite\"))\n",
       "        .then(() => loadScript(\"vega-embed\"))\n",
       "        .catch(showError)\n",
       "        .then(() => displayChart(vegaEmbed));\n",
       "    }\n",
       "  })({\"usermeta\": {\"embedOptions\": {\"theme\": \"fivethirtyeight\"}}, \"config\": {\"view\": {\"continuousWidth\": 400, \"continuousHeight\": 300}}, \"layer\": [{\"mark\": \"text\", \"encoding\": {\"text\": {\"type\": \"quantitative\", \"field\": \"year\"}, \"x\": {\"type\": \"quantitative\", \"axis\": {\"format\": \"%\", \"title\": \"Average recent growth in personal income\"}, \"field\": \"growth-prop\"}, \"y\": {\"type\": \"quantitative\", \"axis\": {\"format\": \"%\", \"title\": \"Incumbent party's vote share\"}, \"field\": \"vote-prop\", \"scale\": {\"zero\": false}}}}, {\"mark\": {\"type\": \"rule\", \"opacity\": 0.1}, \"encoding\": {\"size\": {\"value\": 0.5}, \"y\": {\"value\": 200.1}}}], \"data\": {\"name\": \"data-f3a7d39a115d294279b8fc3486afb0de\"}, \"$schema\": \"https://vega.github.io/schema/vega-lite/v4.8.1.json\", \"datasets\": {\"data-f3a7d39a115d294279b8fc3486afb0de\": [{\"year\": 1952, \"growth\": 2.4, \"vote\": 44.6, \"inc_party_candidate\": \"Stevenson\", \"other_candidate\": \"Eisenhower\", \"growth-prop\": 0.024, \"vote-prop\": 0.446}, {\"year\": 1956, \"growth\": 2.89, \"vote\": 57.76, \"inc_party_candidate\": \"Eisenhower\", \"other_candidate\": \"Stevenson\", \"growth-prop\": 0.028900000000000002, \"vote-prop\": 0.5776}, {\"year\": 1960, \"growth\": 0.85, \"vote\": 49.91, \"inc_party_candidate\": \"Nixon\", \"other_candidate\": \"Kennedy\", \"growth-prop\": 0.0085, \"vote-prop\": 0.4991}, {\"year\": 1964, \"growth\": 4.21, \"vote\": 61.34, \"inc_party_candidate\": \"Johnson\", \"other_candidate\": \"Goldwater\", \"growth-prop\": 0.0421, \"vote-prop\": 0.6134000000000001}, {\"year\": 1968, \"growth\": 3.02, \"vote\": 49.6, \"inc_party_candidate\": \"Humphrey\", \"other_candidate\": \"Nixon\", \"growth-prop\": 0.0302, \"vote-prop\": 0.496}, {\"year\": 1972, \"growth\": 3.62, \"vote\": 61.79, \"inc_party_candidate\": \"Nixon\", \"other_candidate\": \"McGovern\", \"growth-prop\": 0.0362, \"vote-prop\": 0.6179}, {\"year\": 1976, \"growth\": 1.08, \"vote\": 48.95, \"inc_party_candidate\": \"Ford\", \"other_candidate\": \"Carter\", \"growth-prop\": 0.0108, \"vote-prop\": 0.48950000000000005}, {\"year\": 1980, \"growth\": -0.39, \"vote\": 44.7, \"inc_party_candidate\": \"Carter\", \"other_candidate\": \"Reagan\", \"growth-prop\": -0.0039000000000000003, \"vote-prop\": 0.447}, {\"year\": 1984, \"growth\": 3.86, \"vote\": 59.17, \"inc_party_candidate\": \"Reagan\", \"other_candidate\": \"Mondale\", \"growth-prop\": 0.038599999999999995, \"vote-prop\": 0.5917}, {\"year\": 1988, \"growth\": 2.27, \"vote\": 53.94, \"inc_party_candidate\": \"Bush, Sr.\", \"other_candidate\": \"Dukakis\", \"growth-prop\": 0.0227, \"vote-prop\": 0.5394}, {\"year\": 1992, \"growth\": 0.38, \"vote\": 46.55, \"inc_party_candidate\": \"Bush, Sr.\", \"other_candidate\": \"Clinton\", \"growth-prop\": 0.0038, \"vote-prop\": 0.46549999999999997}, {\"year\": 1996, \"growth\": 1.04, \"vote\": 54.74, \"inc_party_candidate\": \"Clinton\", \"other_candidate\": \"Dole\", \"growth-prop\": 0.0104, \"vote-prop\": 0.5474}, {\"year\": 2000, \"growth\": 2.36, \"vote\": 50.27, \"inc_party_candidate\": \"Gore\", \"other_candidate\": \"Bush, Jr.\", \"growth-prop\": 0.0236, \"vote-prop\": 0.5027}, {\"year\": 2004, \"growth\": 1.72, \"vote\": 51.24, \"inc_party_candidate\": \"Bush, Jr.\", \"other_candidate\": \"Kerry\", \"growth-prop\": 0.0172, \"vote-prop\": 0.5124}, {\"year\": 2008, \"growth\": 0.1, \"vote\": 46.32, \"inc_party_candidate\": \"McCain\", \"other_candidate\": \"Obama\", \"growth-prop\": 0.001, \"vote-prop\": 0.4632}, {\"year\": 2012, \"growth\": 0.95, \"vote\": 52.0, \"inc_party_candidate\": \"Obama\", \"other_candidate\": \"Romney\", \"growth-prop\": 0.0095, \"vote-prop\": 0.52}]}}, {\"mode\": \"vega-lite\"});\n",
       "</script>"
      ],
      "text/plain": [
       "alt.LayerChart(...)"
      ]
     },
     "execution_count": 5,
     "metadata": {},
     "output_type": "execute_result"
    }
   ],
   "source": [
    "points = alt.Chart(hibbs).mark_text().encode(\n",
    "    x=alt.X(\"growth-prop\", \n",
    "            axis= alt.Axis(format=\"%\", title=\"Average recent growth in personal income\")),\n",
    "    y=alt.Y(\"vote-prop\", \n",
    "            axis= alt.Axis(format=\"%\", title=\"Incumbent party's vote share\"),\n",
    "            scale=alt.Scale(zero=False)), \n",
    "    text='year')\n",
    "\n",
    "line = alt.Chart(hibbs).mark_rule(opacity=0.1).encode(alt.YValue(200.1), size=alt.value(0.5))\n",
    "\n",
    "chart = points + line\n",
    "chart"
   ]
  },
  {
   "cell_type": "markdown",
   "metadata": {},
   "source": [
    "## Linear regression"
   ]
  },
  {
   "cell_type": "code",
   "execution_count": 6,
   "metadata": {},
   "outputs": [],
   "source": [
    "y = hibbs[\"vote\"]\n",
    "X = hibbs[\"growth\"]\n",
    "X = sm.add_constant(X)\n",
    "\n",
    "mod1 = sm.OLS(y ,X).fit()"
   ]
  },
  {
   "cell_type": "code",
   "execution_count": 7,
   "metadata": {},
   "outputs": [
    {
     "name": "stdout",
     "output_type": "stream",
     "text": [
      "                            OLS Regression Results                            \n",
      "==============================================================================\n",
      "Dep. Variable:                   vote   R-squared:                       0.580\n",
      "Model:                            OLS   Adj. R-squared:                  0.550\n",
      "Method:                 Least Squares   F-statistic:                     19.32\n",
      "Date:                Wed, 05 Aug 2020   Prob (F-statistic):           0.000610\n",
      "Time:                        17:12:34   Log-Likelihood:                -42.839\n",
      "No. Observations:                  16   AIC:                             89.68\n",
      "Df Residuals:                      14   BIC:                             91.22\n",
      "Df Model:                           1                                         \n",
      "Covariance Type:            nonrobust                                         \n",
      "==============================================================================\n",
      "                 coef    std err          t      P>|t|      [0.025      0.975]\n",
      "------------------------------------------------------------------------------\n",
      "const         46.2476      1.622     28.514      0.000      42.769      49.726\n",
      "growth         3.0605      0.696      4.396      0.001       1.567       4.554\n",
      "==============================================================================\n",
      "Omnibus:                        5.392   Durbin-Watson:                   2.379\n",
      "Prob(Omnibus):                  0.067   Jarque-Bera (JB):                2.828\n",
      "Skew:                          -0.961   Prob(JB):                        0.243\n",
      "Kurtosis:                       3.738   Cond. No.                         4.54\n",
      "==============================================================================\n",
      "\n",
      "Warnings:\n",
      "[1] Standard Errors assume that the covariance matrix of the errors is correctly specified.\n"
     ]
    },
    {
     "name": "stderr",
     "output_type": "stream",
     "text": [
      "/mnt/c/Users/pablo/Desktop/projects/intro-sc-python/venv/lib/python3.6/site-packages/scipy/stats/stats.py:1604: UserWarning: kurtosistest only valid for n>=20 ... continuing anyway, n=16\n",
      "  \"anyway, n=%i\" % int(n))\n"
     ]
    }
   ],
   "source": [
    "print(mod1.summary())"
   ]
  },
  {
   "cell_type": "code",
   "execution_count": 8,
   "metadata": {},
   "outputs": [
    {
     "data": {
      "text/html": [
       "\n",
       "<div id=\"altair-viz-a60c148441ef4709810aaaee7465f4b2\"></div>\n",
       "<script type=\"text/javascript\">\n",
       "  (function(spec, embedOpt){\n",
       "    let outputDiv = document.currentScript.previousElementSibling;\n",
       "    if (outputDiv.id !== \"altair-viz-a60c148441ef4709810aaaee7465f4b2\") {\n",
       "      outputDiv = document.getElementById(\"altair-viz-a60c148441ef4709810aaaee7465f4b2\");\n",
       "    }\n",
       "    const paths = {\n",
       "      \"vega\": \"https://cdn.jsdelivr.net/npm//vega@5?noext\",\n",
       "      \"vega-lib\": \"https://cdn.jsdelivr.net/npm//vega-lib?noext\",\n",
       "      \"vega-lite\": \"https://cdn.jsdelivr.net/npm//vega-lite@4.8.1?noext\",\n",
       "      \"vega-embed\": \"https://cdn.jsdelivr.net/npm//vega-embed@6?noext\",\n",
       "    };\n",
       "\n",
       "    function loadScript(lib) {\n",
       "      return new Promise(function(resolve, reject) {\n",
       "        var s = document.createElement('script');\n",
       "        s.src = paths[lib];\n",
       "        s.async = true;\n",
       "        s.onload = () => resolve(paths[lib]);\n",
       "        s.onerror = () => reject(`Error loading script: ${paths[lib]}`);\n",
       "        document.getElementsByTagName(\"head\")[0].appendChild(s);\n",
       "      });\n",
       "    }\n",
       "\n",
       "    function showError(err) {\n",
       "      outputDiv.innerHTML = `<div class=\"error\" style=\"color:red;\">${err}</div>`;\n",
       "      throw err;\n",
       "    }\n",
       "\n",
       "    function displayChart(vegaEmbed) {\n",
       "      vegaEmbed(outputDiv, spec, embedOpt)\n",
       "        .catch(err => showError(`Javascript Error: ${err.message}<br>This usually means there's a typo in your chart specification. See the javascript console for the full traceback.`));\n",
       "    }\n",
       "\n",
       "    if(typeof define === \"function\" && define.amd) {\n",
       "      requirejs.config({paths});\n",
       "      require([\"vega-embed\"], displayChart, err => showError(`Error loading script: ${err.message}`));\n",
       "    } else if (typeof vegaEmbed === \"function\") {\n",
       "      displayChart(vegaEmbed);\n",
       "    } else {\n",
       "      loadScript(\"vega\")\n",
       "        .then(() => loadScript(\"vega-lite\"))\n",
       "        .then(() => loadScript(\"vega-embed\"))\n",
       "        .catch(showError)\n",
       "        .then(() => displayChart(vegaEmbed));\n",
       "    }\n",
       "  })({\"usermeta\": {\"embedOptions\": {\"theme\": \"fivethirtyeight\"}}, \"config\": {\"view\": {\"continuousWidth\": 400, \"continuousHeight\": 300}}, \"hconcat\": [{\"layer\": [{\"mark\": \"text\", \"encoding\": {\"text\": {\"type\": \"quantitative\", \"field\": \"year\"}, \"x\": {\"type\": \"quantitative\", \"axis\": {\"format\": \"%\", \"title\": \"Average recent growth in personal income\"}, \"field\": \"growth-prop\"}, \"y\": {\"type\": \"quantitative\", \"axis\": {\"format\": \"%\", \"title\": \"Incumbent party's vote share\"}, \"field\": \"vote-prop\", \"scale\": {\"zero\": false}}}}, {\"mark\": {\"type\": \"rule\", \"opacity\": 0.1}, \"encoding\": {\"size\": {\"value\": 0.5}, \"y\": {\"value\": 200.1}}}]}, {\"layer\": [{\"mark\": \"circle\", \"encoding\": {\"text\": {\"type\": \"quantitative\", \"field\": \"year\"}, \"x\": {\"type\": \"quantitative\", \"axis\": {\"format\": \"%\", \"title\": \"Average recent growth in personal income\"}, \"field\": \"growth-prop\"}, \"y\": {\"type\": \"quantitative\", \"axis\": {\"format\": \"%\", \"title\": \"Incumbent party's vote share\"}, \"field\": \"vote-prop\", \"scale\": {\"zero\": false}}}}, {\"mark\": \"line\", \"encoding\": {\"text\": {\"type\": \"quantitative\", \"field\": \"year\"}, \"x\": {\"type\": \"quantitative\", \"axis\": {\"format\": \"%\", \"title\": \"Average recent growth in personal income\"}, \"field\": \"growth-prop\"}, \"y\": {\"type\": \"quantitative\", \"axis\": {\"format\": \"%\", \"title\": \"Incumbent party's vote share\"}, \"field\": \"vote-prop\", \"scale\": {\"zero\": false}}}, \"transform\": [{\"on\": \"growth-prop\", \"regression\": \"vote-prop\"}]}, {\"mark\": {\"type\": \"rule\", \"opacity\": 0.1}, \"encoding\": {\"size\": {\"value\": 0.5}, \"y\": {\"value\": 200.1}}}]}], \"data\": {\"name\": \"data-f3a7d39a115d294279b8fc3486afb0de\"}, \"$schema\": \"https://vega.github.io/schema/vega-lite/v4.8.1.json\", \"datasets\": {\"data-f3a7d39a115d294279b8fc3486afb0de\": [{\"year\": 1952, \"growth\": 2.4, \"vote\": 44.6, \"inc_party_candidate\": \"Stevenson\", \"other_candidate\": \"Eisenhower\", \"growth-prop\": 0.024, \"vote-prop\": 0.446}, {\"year\": 1956, \"growth\": 2.89, \"vote\": 57.76, \"inc_party_candidate\": \"Eisenhower\", \"other_candidate\": \"Stevenson\", \"growth-prop\": 0.028900000000000002, \"vote-prop\": 0.5776}, {\"year\": 1960, \"growth\": 0.85, \"vote\": 49.91, \"inc_party_candidate\": \"Nixon\", \"other_candidate\": \"Kennedy\", \"growth-prop\": 0.0085, \"vote-prop\": 0.4991}, {\"year\": 1964, \"growth\": 4.21, \"vote\": 61.34, \"inc_party_candidate\": \"Johnson\", \"other_candidate\": \"Goldwater\", \"growth-prop\": 0.0421, \"vote-prop\": 0.6134000000000001}, {\"year\": 1968, \"growth\": 3.02, \"vote\": 49.6, \"inc_party_candidate\": \"Humphrey\", \"other_candidate\": \"Nixon\", \"growth-prop\": 0.0302, \"vote-prop\": 0.496}, {\"year\": 1972, \"growth\": 3.62, \"vote\": 61.79, \"inc_party_candidate\": \"Nixon\", \"other_candidate\": \"McGovern\", \"growth-prop\": 0.0362, \"vote-prop\": 0.6179}, {\"year\": 1976, \"growth\": 1.08, \"vote\": 48.95, \"inc_party_candidate\": \"Ford\", \"other_candidate\": \"Carter\", \"growth-prop\": 0.0108, \"vote-prop\": 0.48950000000000005}, {\"year\": 1980, \"growth\": -0.39, \"vote\": 44.7, \"inc_party_candidate\": \"Carter\", \"other_candidate\": \"Reagan\", \"growth-prop\": -0.0039000000000000003, \"vote-prop\": 0.447}, {\"year\": 1984, \"growth\": 3.86, \"vote\": 59.17, \"inc_party_candidate\": \"Reagan\", \"other_candidate\": \"Mondale\", \"growth-prop\": 0.038599999999999995, \"vote-prop\": 0.5917}, {\"year\": 1988, \"growth\": 2.27, \"vote\": 53.94, \"inc_party_candidate\": \"Bush, Sr.\", \"other_candidate\": \"Dukakis\", \"growth-prop\": 0.0227, \"vote-prop\": 0.5394}, {\"year\": 1992, \"growth\": 0.38, \"vote\": 46.55, \"inc_party_candidate\": \"Bush, Sr.\", \"other_candidate\": \"Clinton\", \"growth-prop\": 0.0038, \"vote-prop\": 0.46549999999999997}, {\"year\": 1996, \"growth\": 1.04, \"vote\": 54.74, \"inc_party_candidate\": \"Clinton\", \"other_candidate\": \"Dole\", \"growth-prop\": 0.0104, \"vote-prop\": 0.5474}, {\"year\": 2000, \"growth\": 2.36, \"vote\": 50.27, \"inc_party_candidate\": \"Gore\", \"other_candidate\": \"Bush, Jr.\", \"growth-prop\": 0.0236, \"vote-prop\": 0.5027}, {\"year\": 2004, \"growth\": 1.72, \"vote\": 51.24, \"inc_party_candidate\": \"Bush, Jr.\", \"other_candidate\": \"Kerry\", \"growth-prop\": 0.0172, \"vote-prop\": 0.5124}, {\"year\": 2008, \"growth\": 0.1, \"vote\": 46.32, \"inc_party_candidate\": \"McCain\", \"other_candidate\": \"Obama\", \"growth-prop\": 0.001, \"vote-prop\": 0.4632}, {\"year\": 2012, \"growth\": 0.95, \"vote\": 52.0, \"inc_party_candidate\": \"Obama\", \"other_candidate\": \"Romney\", \"growth-prop\": 0.0095, \"vote-prop\": 0.52}]}}, {\"mode\": \"vega-lite\"});\n",
       "</script>"
      ],
      "text/plain": [
       "alt.HConcatChart(...)"
      ]
     },
     "execution_count": 8,
     "metadata": {},
     "output_type": "execute_result"
    }
   ],
   "source": [
    "chart | points.mark_circle() + points.transform_regression(\"growth-prop\", \"vote-prop\").mark_line() + line"
   ]
  }
 ],
 "metadata": {
  "kernelspec": {
   "display_name": "Python 3.6.8 64-bit ('venv': venv)",
   "language": "python",
   "name": "python36864bitvenvvenve269670d94154a47aa0ba5a4660e02de"
  },
  "language_info": {
   "codemirror_mode": {
    "name": "ipython",
    "version": 3
   },
   "file_extension": ".py",
   "mimetype": "text/x-python",
   "name": "python",
   "nbconvert_exporter": "python",
   "pygments_lexer": "ipython3",
   "version": "3.6.8"
  }
 },
 "nbformat": 4,
 "nbformat_minor": 4
}
